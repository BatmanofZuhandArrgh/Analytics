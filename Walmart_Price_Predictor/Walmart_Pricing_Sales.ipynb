{
 "cells": [
  {
   "cell_type": "code",
   "execution_count": 1,
   "metadata": {},
   "outputs": [],
   "source": [
    "import numpy as np\n",
    "import matplotlib.pyplot as plt\n",
    "import pandas as pd\n",
    "pd.options.mode.chained_assignment = None  # default='warn'\n",
    "from sklearn.tree import DecisionTreeRegressor\n",
    "from sklearn.tree import export_graphviz"
   ]
  },
  {
   "cell_type": "code",
   "execution_count": 2,
   "metadata": {},
   "outputs": [],
   "source": [
    "dataset = pd.read_csv(\"/Users/MACOS/Desktop/Data_Analytics/Walmart_Price_Predictor/Walmart_Sales_and_Pricing/Train.csv\")\n",
    "apply =  pd.read_csv(\"/Users/MACOS/Desktop/Data_Analytics/Walmart_Price_Predictor/Walmart_Sales_and_Pricing/Test.csv\")\n",
    "\n",
    "#print(train.head())\n",
    "#print(test.head())"
   ]
  },
  {
   "cell_type": "code",
   "execution_count": 3,
   "metadata": {
    "scrolled": true
   },
   "outputs": [
    {
     "data": {
      "text/html": [
       "<div>\n",
       "<style scoped>\n",
       "    .dataframe tbody tr th:only-of-type {\n",
       "        vertical-align: middle;\n",
       "    }\n",
       "\n",
       "    .dataframe tbody tr th {\n",
       "        vertical-align: top;\n",
       "    }\n",
       "\n",
       "    .dataframe thead th {\n",
       "        text-align: right;\n",
       "    }\n",
       "</style>\n",
       "<table border=\"1\" class=\"dataframe\">\n",
       "  <thead>\n",
       "    <tr style=\"text-align: right;\">\n",
       "      <th></th>\n",
       "      <th>Item_Identifier</th>\n",
       "      <th>Item_Weight</th>\n",
       "      <th>Item_Fat_Content</th>\n",
       "      <th>Item_Visibility</th>\n",
       "      <th>Item_Type</th>\n",
       "      <th>Item_MRP</th>\n",
       "      <th>Outlet_Identifier</th>\n",
       "      <th>Outlet_Establishment_Year</th>\n",
       "      <th>Outlet_Size</th>\n",
       "      <th>Outlet_Location_Type</th>\n",
       "      <th>Outlet_Type</th>\n",
       "      <th>Item_Outlet_Sales</th>\n",
       "    </tr>\n",
       "  </thead>\n",
       "  <tbody>\n",
       "    <tr>\n",
       "      <th>0</th>\n",
       "      <td>FDA15</td>\n",
       "      <td>9.30</td>\n",
       "      <td>Low Fat</td>\n",
       "      <td>0.016047</td>\n",
       "      <td>Dairy</td>\n",
       "      <td>249.8092</td>\n",
       "      <td>OUT049</td>\n",
       "      <td>1999</td>\n",
       "      <td>Medium</td>\n",
       "      <td>Tier 1</td>\n",
       "      <td>Supermarket Type1</td>\n",
       "      <td>3735.1380</td>\n",
       "    </tr>\n",
       "    <tr>\n",
       "      <th>1</th>\n",
       "      <td>DRC01</td>\n",
       "      <td>5.92</td>\n",
       "      <td>Regular</td>\n",
       "      <td>0.019278</td>\n",
       "      <td>Soft Drinks</td>\n",
       "      <td>48.2692</td>\n",
       "      <td>OUT018</td>\n",
       "      <td>2009</td>\n",
       "      <td>Medium</td>\n",
       "      <td>Tier 3</td>\n",
       "      <td>Supermarket Type2</td>\n",
       "      <td>443.4228</td>\n",
       "    </tr>\n",
       "    <tr>\n",
       "      <th>2</th>\n",
       "      <td>FDN15</td>\n",
       "      <td>17.50</td>\n",
       "      <td>Low Fat</td>\n",
       "      <td>0.016760</td>\n",
       "      <td>Meat</td>\n",
       "      <td>141.6180</td>\n",
       "      <td>OUT049</td>\n",
       "      <td>1999</td>\n",
       "      <td>Medium</td>\n",
       "      <td>Tier 1</td>\n",
       "      <td>Supermarket Type1</td>\n",
       "      <td>2097.2700</td>\n",
       "    </tr>\n",
       "    <tr>\n",
       "      <th>3</th>\n",
       "      <td>FDX07</td>\n",
       "      <td>19.20</td>\n",
       "      <td>Regular</td>\n",
       "      <td>0.000000</td>\n",
       "      <td>Fruits and Vegetables</td>\n",
       "      <td>182.0950</td>\n",
       "      <td>OUT010</td>\n",
       "      <td>1998</td>\n",
       "      <td>NaN</td>\n",
       "      <td>Tier 3</td>\n",
       "      <td>Grocery Store</td>\n",
       "      <td>732.3800</td>\n",
       "    </tr>\n",
       "    <tr>\n",
       "      <th>4</th>\n",
       "      <td>NCD19</td>\n",
       "      <td>8.93</td>\n",
       "      <td>Low Fat</td>\n",
       "      <td>0.000000</td>\n",
       "      <td>Household</td>\n",
       "      <td>53.8614</td>\n",
       "      <td>OUT013</td>\n",
       "      <td>1987</td>\n",
       "      <td>High</td>\n",
       "      <td>Tier 3</td>\n",
       "      <td>Supermarket Type1</td>\n",
       "      <td>994.7052</td>\n",
       "    </tr>\n",
       "  </tbody>\n",
       "</table>\n",
       "</div>"
      ],
      "text/plain": [
       "  Item_Identifier  Item_Weight Item_Fat_Content  Item_Visibility  \\\n",
       "0           FDA15         9.30          Low Fat         0.016047   \n",
       "1           DRC01         5.92          Regular         0.019278   \n",
       "2           FDN15        17.50          Low Fat         0.016760   \n",
       "3           FDX07        19.20          Regular         0.000000   \n",
       "4           NCD19         8.93          Low Fat         0.000000   \n",
       "\n",
       "               Item_Type  Item_MRP Outlet_Identifier  \\\n",
       "0                  Dairy  249.8092            OUT049   \n",
       "1            Soft Drinks   48.2692            OUT018   \n",
       "2                   Meat  141.6180            OUT049   \n",
       "3  Fruits and Vegetables  182.0950            OUT010   \n",
       "4              Household   53.8614            OUT013   \n",
       "\n",
       "   Outlet_Establishment_Year Outlet_Size Outlet_Location_Type  \\\n",
       "0                       1999      Medium               Tier 1   \n",
       "1                       2009      Medium               Tier 3   \n",
       "2                       1999      Medium               Tier 1   \n",
       "3                       1998         NaN               Tier 3   \n",
       "4                       1987        High               Tier 3   \n",
       "\n",
       "         Outlet_Type  Item_Outlet_Sales  \n",
       "0  Supermarket Type1          3735.1380  \n",
       "1  Supermarket Type2           443.4228  \n",
       "2  Supermarket Type1          2097.2700  \n",
       "3      Grocery Store           732.3800  \n",
       "4  Supermarket Type1           994.7052  "
      ]
     },
     "execution_count": 3,
     "metadata": {},
     "output_type": "execute_result"
    }
   ],
   "source": [
    "dataset.head()\n"
   ]
  },
  {
   "cell_type": "code",
   "execution_count": 4,
   "metadata": {},
   "outputs": [],
   "source": [
    "#from sklearn.model_selection import train_test_split\n",
    "\n",
    "#train ,test = train_test_split(dataset,test_size=0.4)       #test_size=0.5(whole_data)\n",
    "    "
   ]
  },
  {
   "cell_type": "code",
   "execution_count": 4,
   "metadata": {
    "scrolled": true
   },
   "outputs": [
    {
     "name": "stdout",
     "output_type": "stream",
     "text": [
      "Item_Identifier               object\n",
      "Item_Weight                  float64\n",
      "Item_Fat_Content              object\n",
      "Item_Visibility              float64\n",
      "Item_Type                     object\n",
      "Item_MRP                     float64\n",
      "Outlet_Identifier             object\n",
      "Outlet_Establishment_Year      int64\n",
      "Outlet_Size                   object\n",
      "Outlet_Location_Type          object\n",
      "Outlet_Type                   object\n",
      "Item_Outlet_Sales            float64\n",
      "dtype: object\n",
      "Shape of the set is:  (8523, 12)\n"
     ]
    }
   ],
   "source": [
    "#I. EDA\n",
    "types = dataset.dtypes\n",
    "print(types)\n",
    "print(\"Shape of the set is: \", dataset.shape)\n",
    "\n"
   ]
  },
  {
   "cell_type": "code",
   "execution_count": 5,
   "metadata": {},
   "outputs": [
    {
     "name": "stdout",
     "output_type": "stream",
     "text": [
      "The statistic of numeric data\n",
      "Name \t\t   Mean \t Median \t \n",
      "Item_Weight \t 12.86 \t  nan\n",
      "Item_Visibility \t 0.07 \t  0.05\n",
      "Item_MRP \t 140.99 \t  143.01\n",
      "Item_Outlet_Sales \t 2181.29 \t  1794.33\n"
     ]
    }
   ],
   "source": [
    "#I.1. Explore\n",
    "print(\"The statistic of numeric data\")\n",
    "print(\"Name \\t\\t   Mean \\t Median \\t \")\n",
    "for i in dataset.columns:\n",
    "    if(dataset[i].dtype == \"float64\"):\n",
    "        print(i, \"\\t %.2f \\t  %.2f\" % \\\n",
    "              (np.mean(dataset[i]), np.median(dataset[i])) )\n",
    "\n",
    "\n",
    "        "
   ]
  },
  {
   "cell_type": "markdown",
   "metadata": {},
   "source": [
    "Item_Identifier             : Is primary key, will keep this\n",
    "Item_Weight                 : Weight per product in grams\n",
    "Item_Fat_Content              object\n",
    "Item_Visibility             : I could not find information on what metric this is. Assuming people can optimize this, we'll include it in our analysis. Possible sources?: https://www.researchgate.net/publication/273279491_Developing_visibility_analysis_for_a_retail_store_A_pilot_study_in_a_bookstore\n",
    "Item_Type                     object\n",
    "Item_MRP                     : Item's Maximum Retail Price\n",
    "Outlet_Identifier            : I doubt this will be useful for someone predicting sales for a new item in another specific outlet. Will delete this.\n",
    "Outlet_Establishment_Year    : Will also delete this, for the same reason.\n",
    "Outlet_Size                  : Please see other references of what Walmart considers to be a big/ medium / small size\n",
    "Outlet_Location_Type         : Same as for Size\n",
    "Outlet_Type                  : Same as for Type\n",
    "Item_Outlet_Sales            : We're looking to predict this"
   ]
  },
  {
   "cell_type": "code",
   "execution_count": 6,
   "metadata": {
    "scrolled": true
   },
   "outputs": [
    {
     "name": "stdout",
     "output_type": "stream",
     "text": [
      "Dataset's duplicates: (0, 12)\n",
      "There is no duplicate rows\n"
     ]
    }
   ],
   "source": [
    "#I.2. Cleaning\n",
    "#a. Dropping Duplicates\n",
    "duplicaterows = dataset[dataset.duplicated()]\n",
    "print(\"Dataset's duplicates:\", duplicaterows.shape)\n",
    "if duplicaterows.shape[0]==0:\n",
    "    print(\"There is no duplicate rows\")\n",
    "else:\n",
    "    dataset = dataset.drop_duplicates()\n",
    "\n",
    "    "
   ]
  },
  {
   "cell_type": "code",
   "execution_count": 7,
   "metadata": {
    "scrolled": true
   },
   "outputs": [
    {
     "name": "stdout",
     "output_type": "stream",
     "text": [
      "Training set's missing values:\n",
      "Item_Identifier                 0\n",
      "Item_Weight                  1463\n",
      "Item_Fat_Content                0\n",
      "Item_Visibility                 0\n",
      "Item_Type                       0\n",
      "Item_MRP                        0\n",
      "Outlet_Identifier               0\n",
      "Outlet_Establishment_Year       0\n",
      "Outlet_Size                  2410\n",
      "Outlet_Location_Type            0\n",
      "Outlet_Type                     0\n",
      "Item_Outlet_Sales               0\n",
      "dtype: int64\n"
     ]
    }
   ],
   "source": [
    "#b. Dropping missing values\n",
    "print(\"Training set's missing values:\")\n",
    "print(dataset.isnull().sum())\n",
    "#num_missing = (df['Confirmed'] == 0).sum()\n",
    "dataset['Item_Weight'] = dataset['Item_Weight'].fillna(dataset['Item_Weight'].mean()) #Replacing the missing data witht the mean of the rest\n",
    "#df = df.dropna() # Dropping NA values\n"
   ]
  },
  {
   "cell_type": "markdown",
   "metadata": {},
   "source": [
    "I expect the size to have an effect on the final sales of the product, since size suggests larger selection pool, and thus Analysis Paralysis. Therefore we will not delete 1/8 of the dataset where Outlet Size is missing.\n",
    "Also, whatever Visibility is, I doubt any item on sales has the visibilty of zero. Thus, we would replace the 0s with the mean of the rest as well."
   ]
  },
  {
   "cell_type": "code",
   "execution_count": 8,
   "metadata": {
    "scrolled": true
   },
   "outputs": [
    {
     "name": "stdout",
     "output_type": "stream",
     "text": [
      "The mean of the non-zero cells is:  0.07048184085069421\n"
     ]
    }
   ],
   "source": [
    "mean = 0\n",
    "number_of_nonzeroes = 0\n",
    "for i in dataset['Item_Visibility']:\n",
    "    if(i != 0):\n",
    "        number_of_nonzeroes+=1\n",
    "    mean = mean + i\n",
    "mean_of_nonzeroes = mean/number_of_nonzeroes\n",
    "print(\"The mean of the non-zero cells is: \", mean_of_nonzeroes)\n",
    "dataset['Item_Visibility'] = dataset['Item_Visibility'].replace(0,mean_of_nonzeroes)\n"
   ]
  },
  {
   "cell_type": "code",
   "execution_count": 9,
   "metadata": {},
   "outputs": [],
   "source": [
    "#Removing columns\n",
    "dataset = dataset.drop(['Item_Identifier','Outlet_Identifier', 'Outlet_Establishment_Year', 'Outlet_Size'], axis=1)\n",
    "\n"
   ]
  },
  {
   "cell_type": "code",
   "execution_count": 10,
   "metadata": {},
   "outputs": [],
   "source": [
    "dataset['Item_Fat_Content'] = dataset['Item_Fat_Content'].replace(\"LF\",\"Low Fat\")\n",
    "dataset['Item_Fat_Content'] = dataset['Item_Fat_Content'].replace(\"low fat\",\"Low Fat\")\n",
    "dataset['Item_Fat_Content'] = dataset['Item_Fat_Content'].replace(\"reg\",\"Regular\")\n"
   ]
  },
  {
   "cell_type": "code",
   "execution_count": 12,
   "metadata": {},
   "outputs": [
    {
     "data": {
      "image/png": "[encoded data removed]",
      "text/plain": [
       "<Figure size 432x288 with 1 Axes>"
      ]
     },
     "metadata": {
      "needs_background": "light"
     },
     "output_type": "display_data"
    }
   ],
   "source": [
    "#I.3. Drawing graphs to explore and modify\n",
    "#a. Histograms\n",
    "i = \"Outlet_Type\"\n",
    "#Input Item_Fat_Content Item_Type Outlet_Location_Type Outlet_Type\n",
    "#for i in train.columns:\n",
    " #   if(str(train[i].dtypes) == \"object\" and str(i) != \"Item_Identifier\" and str(i) != \"Outlet_Size\"):\n",
    "p = plt.hist(dataset[i])\n",
    "plt.xlabel('Variation')\n",
    "plt.ylabel('Frequency')\n",
    "plt.tick_params(axis ='x', rotation = 70) \n",
    "plt.title(i)\n",
    "plt.show()"
   ]
  },
  {
   "cell_type": "code",
   "execution_count": 13,
   "metadata": {
    "scrolled": true
   },
   "outputs": [
    {
     "data": {
      "image/png": "[encoded data removed]",
      "text/plain": [
       "<Figure size 432x288 with 1 Axes>"
      ]
     },
     "metadata": {
      "needs_background": "light"
     },
     "output_type": "display_data"
    }
   ],
   "source": [
    "#b. Scatter plot\n",
    "i = \"Item_MRP\"\n",
    "#Input Item_Weight Item_MRP\n",
    "plt.plot(dataset[i], dataset[\"Item_Outlet_Sales\"], '.', color='black');\n"
   ]
  },
  {
   "cell_type": "code",
   "execution_count": 14,
   "metadata": {
    "scrolled": true
   },
   "outputs": [
    {
     "name": "stdout",
     "output_type": "stream",
     "text": [
      "      Item_Weight Item_Fat_Content  Item_Visibility              Item_Type  \\\n",
      "0           9.300          Low Fat         0.016047                  Dairy   \n",
      "1           5.920          Regular         0.019278            Soft Drinks   \n",
      "2          17.500          Low Fat         0.016760                   Meat   \n",
      "3          19.200          Regular         0.070482  Fruits and Vegetables   \n",
      "4           8.930          Low Fat         0.070482              Household   \n",
      "...           ...              ...              ...                    ...   \n",
      "8518        6.865          Low Fat         0.056783            Snack Foods   \n",
      "8519        8.380          Regular         0.046982           Baking Goods   \n",
      "8520       10.600          Low Fat         0.035186     Health and Hygiene   \n",
      "8521        7.210          Regular         0.145221            Snack Foods   \n",
      "8522       14.800          Low Fat         0.044878            Soft Drinks   \n",
      "\n",
      "      Item_MRP Outlet_Location_Type        Outlet_Type  Item_Outlet_Sales  \n",
      "0     249.8092               Tier 1  Supermarket Type1          3735.1380  \n",
      "1      48.2692               Tier 3  Supermarket Type2           443.4228  \n",
      "2     141.6180               Tier 1  Supermarket Type1          2097.2700  \n",
      "3     182.0950               Tier 3      Grocery Store           732.3800  \n",
      "4      53.8614               Tier 3  Supermarket Type1           994.7052  \n",
      "...        ...                  ...                ...                ...  \n",
      "8518  214.5218               Tier 3  Supermarket Type1          2778.3834  \n",
      "8519  108.1570               Tier 2  Supermarket Type1           549.2850  \n",
      "8520   85.1224               Tier 2  Supermarket Type1          1193.1136  \n",
      "8521  103.1332               Tier 3  Supermarket Type2          1845.5976  \n",
      "8522   75.4670               Tier 1  Supermarket Type1           765.6700  \n",
      "\n",
      "[8523 rows x 8 columns]\n"
     ]
    }
   ],
   "source": [
    "print(dataset)"
   ]
  },
  {
   "cell_type": "code",
   "execution_count": 17,
   "metadata": {},
   "outputs": [],
   "source": [
    "from sklearn.preprocessing import OneHotEncoder"
   ]
  },
  {
   "cell_type": "code",
   "execution_count": 23,
   "metadata": {},
   "outputs": [
    {
     "name": "stdout",
     "output_type": "stream",
     "text": [
      "   Item_Weight  Item_Visibility              Item_Type  Item_MRP  \\\n",
      "0         9.30         0.016047                  Dairy  249.8092   \n",
      "1         5.92         0.019278            Soft Drinks   48.2692   \n",
      "2        17.50         0.016760                   Meat  141.6180   \n",
      "3        19.20         0.070482  Fruits and Vegetables  182.0950   \n",
      "4         8.93         0.070482              Household   53.8614   \n",
      "\n",
      "  Outlet_Location_Type        Outlet_Type  Item_Outlet_Sales  FatContent: 0  \\\n",
      "0               Tier 1  Supermarket Type1          3735.1380            1.0   \n",
      "1               Tier 3  Supermarket Type2           443.4228            0.0   \n",
      "2               Tier 1  Supermarket Type1          2097.2700            1.0   \n",
      "3               Tier 3      Grocery Store           732.3800            0.0   \n",
      "4               Tier 3  Supermarket Type1           994.7052            1.0   \n",
      "\n",
      "   FatContent: 1  \n",
      "0            0.0  \n",
      "1            1.0  \n",
      "2            0.0  \n",
      "3            1.0  \n",
      "4            0.0  \n"
     ]
    }
   ],
   "source": [
    "#One hot encoder: Fat content\n",
    "# importing one hot encoder \n",
    "from sklearn.preprocessing import OneHotEncoder\n",
    "#creating one hot encoder object \n",
    "onehotencoder = OneHotEncoder()\n",
    "#reshape the 1-D country array to 2-D as fit_transform expects 2-D and finally fit the object \n",
    "X = onehotencoder.fit_transform(dataset.Item_Fat_Content.values.reshape(-1,1)).toarray()\n",
    "#To add this back into the original dataframe \n",
    "dfOneHot = pd.DataFrame(X, columns = [\"FatContent: \"+str(int(i)) for i in range(2)]) \n",
    "df = pd.concat([dataset, dfOneHot], axis=1)\n",
    "#droping the country column \n",
    "df= df.drop(['Item_Fat_Content'], axis=1) \n",
    "#printing to verify \n",
    "print(df.head())"
   ]
  },
  {
   "cell_type": "code",
   "execution_count": 24,
   "metadata": {
    "scrolled": false
   },
   "outputs": [
    {
     "name": "stdout",
     "output_type": "stream",
     "text": [
      "   Item_Weight  Item_Visibility              Item_Type  Item_MRP  \\\n",
      "0         9.30         0.016047                  Dairy  249.8092   \n",
      "1         5.92         0.019278            Soft Drinks   48.2692   \n",
      "2        17.50         0.016760                   Meat  141.6180   \n",
      "3        19.20         0.070482  Fruits and Vegetables  182.0950   \n",
      "4         8.93         0.070482              Household   53.8614   \n",
      "\n",
      "         Outlet_Type  Item_Outlet_Sales  FatContent: 0  FatContent: 1  \\\n",
      "0  Supermarket Type1          3735.1380            1.0            0.0   \n",
      "1  Supermarket Type2           443.4228            0.0            1.0   \n",
      "2  Supermarket Type1          2097.2700            1.0            0.0   \n",
      "3      Grocery Store           732.3800            0.0            1.0   \n",
      "4  Supermarket Type1           994.7052            1.0            0.0   \n",
      "\n",
      "   Outlet_Location_Type: 0  Outlet_Location_Type: 1  Outlet_Location_Type: 2  \n",
      "0                      1.0                      0.0                      0.0  \n",
      "1                      0.0                      0.0                      1.0  \n",
      "2                      1.0                      0.0                      0.0  \n",
      "3                      0.0                      0.0                      1.0  \n",
      "4                      0.0                      0.0                      1.0  \n"
     ]
    }
   ],
   "source": [
    "#One hot encoder: Outlet_Location_Type\n",
    "#creating one hot encoder object \n",
    "#onehotencoder = OneHotEncoder()\n",
    "#reshape the 1-D country array to 2-D as fit_transform expects 2-D and finally fit the object \n",
    "X = onehotencoder.fit_transform(df.Outlet_Location_Type.values.reshape(-1,1)).toarray()\n",
    "#To add this back into the original dataframe \n",
    "dfOneHot = pd.DataFrame(X, columns = [\"Outlet_Location_Type: \"+str(int(i)) for i in range(3)]) \n",
    "df = pd.concat([df, dfOneHot], axis=1)\n",
    "#droping the country column \n",
    "df= df.drop(['Outlet_Location_Type'], axis=1) \n",
    "#printing to verify \n",
    "print(df.head())"
   ]
  },
  {
   "cell_type": "code",
   "execution_count": 26,
   "metadata": {},
   "outputs": [
    {
     "name": "stdout",
     "output_type": "stream",
     "text": [
      "   Item_Weight  Item_Visibility              Item_Type  Item_MRP  \\\n",
      "0         9.30         0.016047                  Dairy  249.8092   \n",
      "1         5.92         0.019278            Soft Drinks   48.2692   \n",
      "2        17.50         0.016760                   Meat  141.6180   \n",
      "3        19.20         0.070482  Fruits and Vegetables  182.0950   \n",
      "4         8.93         0.070482              Household   53.8614   \n",
      "\n",
      "   Item_Outlet_Sales  FatContent: 0  FatContent: 1  Outlet_Location_Type: 0  \\\n",
      "0          3735.1380            1.0            0.0                      1.0   \n",
      "1           443.4228            0.0            1.0                      0.0   \n",
      "2          2097.2700            1.0            0.0                      1.0   \n",
      "3           732.3800            0.0            1.0                      0.0   \n",
      "4           994.7052            1.0            0.0                      0.0   \n",
      "\n",
      "   Outlet_Location_Type: 1  Outlet_Location_Type: 2  Outlet_Type: 0  \\\n",
      "0                      0.0                      0.0             0.0   \n",
      "1                      0.0                      1.0             0.0   \n",
      "2                      0.0                      0.0             0.0   \n",
      "3                      0.0                      1.0             1.0   \n",
      "4                      0.0                      1.0             0.0   \n",
      "\n",
      "   Outlet_Type: 1  Outlet_Type: 2  Outlet_Type: 3  \n",
      "0             1.0             0.0             0.0  \n",
      "1             0.0             1.0             0.0  \n",
      "2             1.0             0.0             0.0  \n",
      "3             0.0             0.0             0.0  \n",
      "4             1.0             0.0             0.0  \n"
     ]
    }
   ],
   "source": [
    "#One hot encoder: Outlet_Location_Type\n",
    "#creating one hot encoder object \n",
    "#onehotencoder = OneHotEncoder()\n",
    "#reshape the 1-D country array to 2-D as fit_transform expects 2-D and finally fit the object \n",
    "X = onehotencoder.fit_transform(df.Outlet_Type.values.reshape(-1,1)).toarray()\n",
    "#To add this back into the original dataframe \n",
    "dfOneHot = pd.DataFrame(X, columns = [\"Outlet_Type: \"+str(int(i)) for i in range(4)]) \n",
    "df = pd.concat([df, dfOneHot], axis=1)\n",
    "#droping the country column \n",
    "df= df.drop(['Outlet_Type'], axis=1) \n",
    "#printing to verify \n",
    "print(df.head())"
   ]
  },
  {
   "cell_type": "code",
   "execution_count": 28,
   "metadata": {},
   "outputs": [
    {
     "name": "stdout",
     "output_type": "stream",
     "text": [
      "   Item_Weight  Item_Visibility  Item_MRP  Item_Outlet_Sales  FatContent: 0  \\\n",
      "0         9.30         0.016047  249.8092          3735.1380            1.0   \n",
      "1         5.92         0.019278   48.2692           443.4228            0.0   \n",
      "2        17.50         0.016760  141.6180          2097.2700            1.0   \n",
      "3        19.20         0.070482  182.0950           732.3800            0.0   \n",
      "4         8.93         0.070482   53.8614           994.7052            1.0   \n",
      "\n",
      "   FatContent: 1  Outlet_Location_Type: 0  Outlet_Location_Type: 1  \\\n",
      "0            0.0                      1.0                      0.0   \n",
      "1            1.0                      0.0                      0.0   \n",
      "2            0.0                      1.0                      0.0   \n",
      "3            1.0                      0.0                      0.0   \n",
      "4            0.0                      0.0                      0.0   \n",
      "\n",
      "   Outlet_Location_Type: 2  Outlet_Type: 0  ...  Item_Type: 6  Item_Type: 7  \\\n",
      "0                      0.0             0.0  ...           0.0           0.0   \n",
      "1                      1.0             0.0  ...           0.0           0.0   \n",
      "2                      0.0             0.0  ...           0.0           0.0   \n",
      "3                      1.0             1.0  ...           1.0           0.0   \n",
      "4                      1.0             0.0  ...           0.0           0.0   \n",
      "\n",
      "   Item_Type: 8  Item_Type: 9  Item_Type: 10  Item_Type: 11  Item_Type: 12  \\\n",
      "0           0.0           0.0            0.0            0.0            0.0   \n",
      "1           0.0           0.0            0.0            0.0            0.0   \n",
      "2           0.0           0.0            1.0            0.0            0.0   \n",
      "3           0.0           0.0            0.0            0.0            0.0   \n",
      "4           0.0           1.0            0.0            0.0            0.0   \n",
      "\n",
      "   Item_Type: 13  Item_Type: 14  Item_Type: 15  \n",
      "0            0.0            0.0            0.0  \n",
      "1            0.0            1.0            0.0  \n",
      "2            0.0            0.0            0.0  \n",
      "3            0.0            0.0            0.0  \n",
      "4            0.0            0.0            0.0  \n",
      "\n",
      "[5 rows x 29 columns]\n"
     ]
    }
   ],
   "source": [
    "#One hot encoder: Item_Type\n",
    "#creating one hot encoder object \n",
    "#onehotencoder = OneHotEncoder()\n",
    "#reshape the 1-D country array to 2-D as fit_transform expects 2-D and finally fit the object \n",
    "X = onehotencoder.fit_transform(df.Item_Type.values.reshape(-1,1)).toarray()\n",
    "#To add this back into the original dataframe \n",
    "dfOneHot = pd.DataFrame(X, columns = [\"Item_Type: \"+str(int(i)) for i in range(16)]) \n",
    "df = pd.concat([df, dfOneHot], axis=1)\n",
    "#droping the country column \n",
    "df= df.drop(['Item_Type'], axis=1) \n",
    "#printing to verify \n",
    "print(df.head())"
   ]
  },
  {
   "cell_type": "code",
   "execution_count": 33,
   "metadata": {},
   "outputs": [],
   "source": [
    "from sklearn.model_selection import train_test_split\n",
    "\n",
    "train ,test = train_test_split(df,test_size=0.4)       #test_size=0.5(whole_data)\n",
    "    "
   ]
  },
  {
   "cell_type": "code",
   "execution_count": 34,
   "metadata": {},
   "outputs": [],
   "source": [
    "#II. Decision tree regressor\n",
    "#Spliting the training dataset\n",
    "X = train.drop(['Item_Outlet_Sales'], axis = 1)\n",
    "Y = train['Item_Outlet_Sales']"
   ]
  },
  {
   "cell_type": "code",
   "execution_count": 35,
   "metadata": {
    "scrolled": false
   },
   "outputs": [
    {
     "name": "stdout",
     "output_type": "stream",
     "text": [
      "6776     482.0392\n",
      "2387    1179.1318\n",
      "1542    1605.9096\n",
      "3426    2535.3664\n",
      "8225    2588.6304\n",
      "          ...    \n",
      "519     5344.3766\n",
      "7376    2399.5432\n",
      "7834    1133.8574\n",
      "6552    2082.6224\n",
      "5777     335.5632\n",
      "Name: Item_Outlet_Sales, Length: 5113, dtype: float64\n"
     ]
    }
   ],
   "source": [
    "print(Y)"
   ]
  },
  {
   "cell_type": "code",
   "execution_count": 36,
   "metadata": {},
   "outputs": [
    {
     "data": {
      "text/plain": [
       "DecisionTreeRegressor(ccp_alpha=0.0, criterion='mse', max_depth=None,\n",
       "                      max_features=None, max_leaf_nodes=None,\n",
       "                      min_impurity_decrease=0.0, min_impurity_split=None,\n",
       "                      min_samples_leaf=1, min_samples_split=20,\n",
       "                      min_weight_fraction_leaf=0.0, presort='deprecated',\n",
       "                      random_state=None, splitter='best')"
      ]
     },
     "execution_count": 36,
     "metadata": {},
     "output_type": "execute_result"
    }
   ],
   "source": [
    "regr_1 = DecisionTreeRegressor(criterion='friedman_mse',\\\n",
    "                               max_depth=60, min_samples_split=2\\\n",
    "                                ,min_samples_leaf=1, min_weight_fraction_leaf=0.0, \\\n",
    "                               max_features=None, random_state=None, max_leaf_nodes=None, min_impurity_decrease=0.0, \\\n",
    "                               min_impurity_split=None, presort='deprecated', ccp_alpha=0.0)\n",
    "regr_2 = DecisionTreeRegressor(criterion='mse', splitter='best',\\\n",
    "                               max_depth=None, min_samples_split=20\\\n",
    "                                ,min_samples_leaf=1, min_weight_fraction_leaf=0.0, \\\n",
    "                               max_features=None, random_state=None, max_leaf_nodes=None, min_impurity_decrease=0.0, \\\n",
    "                               min_impurity_split=None, presort='deprecated', ccp_alpha=0.0)\n",
    "regr_1.fit(X, Y)\n",
    "regr_2.fit(X, Y)"
   ]
  },
  {
   "cell_type": "code",
   "execution_count": 37,
   "metadata": {},
   "outputs": [],
   "source": [
    "# Predict\n",
    "X_test = test.drop(['Item_Outlet_Sales'], axis = 1)\n",
    "Y_test = test['Item_Outlet_Sales']\n",
    "y_1 = regr_1.predict(X_test)\n",
    "y_2 = regr_2.predict(X_test)"
   ]
  },
  {
   "cell_type": "code",
   "execution_count": 42,
   "metadata": {},
   "outputs": [
    {
     "name": "stdout",
     "output_type": "stream",
     "text": [
      "785      966.7416\n",
      "1409    5697.9164\n",
      "1370    5954.2494\n",
      "328     3340.9844\n",
      "7162    2061.3168\n",
      "          ...    \n",
      "8246    4673.9160\n",
      "2812     617.8624\n",
      "6941    3504.7712\n",
      "3598     218.3824\n",
      "5387    2157.1920\n",
      "Name: Item_Outlet_Sales, Length: 3410, dtype: float64\n"
     ]
    }
   ],
   "source": [
    "print(Y_test)"
   ]
  },
  {
   "cell_type": "code",
   "execution_count": 43,
   "metadata": {},
   "outputs": [
    {
     "name": "stdout",
     "output_type": "stream",
     "text": [
      "[1267.6832 3349.6398 4195.8716 ... 5359.69    316.255  2886.243 ]\n",
      "3410\n"
     ]
    }
   ],
   "source": [
    "print(y_1)\n",
    "print(len(y_1))"
   ]
  },
  {
   "cell_type": "code",
   "execution_count": 39,
   "metadata": {},
   "outputs": [
    {
     "name": "stdout",
     "output_type": "stream",
     "text": [
      "[1489.59434    4196.05318182 4005.67473333 ... 2714.41111667  177.48325714\n",
      " 3311.74041538]\n"
     ]
    }
   ],
   "source": [
    "print(y_2)"
   ]
  },
  {
   "cell_type": "code",
   "execution_count": null,
   "metadata": {},
   "outputs": [],
   "source": []
  }
 ],
 "metadata": {
  "kernelspec": {
   "display_name": "tensorflow_env",
   "language": "python",
   "name": "tensorflow_env"
  },
  "language_info": {
   "codemirror_mode": {
    "name": "ipython",
    "version": 3
   },
   "file_extension": ".py",
   "mimetype": "text/x-python",
   "name": "python",
   "nbconvert_exporter": "python",
   "pygments_lexer": "ipython3",
   "version": "3.7.7"
  }
 },
 "nbformat": 4,
 "nbformat_minor": 4
}
